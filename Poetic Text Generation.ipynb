{
 "cells": [
  {
   "cell_type": "markdown",
   "id": "fdde2445",
   "metadata": {},
   "source": [
    "# PROJECT DESCRIPTION\n",
    "\n",
    "1. Import the Required Libraries\n",
    "    * random: For generating random numbers.\n",
    "    -numpy (np): For numerical operations and array manipulation.\n",
    "    -tensorflow (tf): Deep learning framework for building and training models.\n",
    "    -Sequential: A linear stack of layers used to build the model.\n",
    "    -LSTM, Dense, and Activation: Layers to be used in the model.\n",
    "    -RMSprop: An optimizer for training the model.\n",
    "    \n",
    "    \n",
    "2. Download and Preprocess the Text\n",
    "    * get_file() used to download Shakespeare dataset from URL and save to file.\n",
    "    -Text file then opened, decoded using UTF-8 encoding, converted lowercase.\n",
    "    -Portion of text (300,000 to 800,000 characters) for faster processing.\n",
    "    \n",
    "    \n",
    "3. Create Character Mappings\n",
    "    * Characters in text identified and sorted to create list of characters.\n",
    "    -char_to_index and index_to_char, created to map characters indices.\n",
    "    \n",
    "    \n",
    "4. Define Constants\n",
    "    * SEQUENCE_LENGTH indicate length of input sequences for training the model.\n",
    "    -STEP_SIZE, indicated step size between consecutive sequences.\n",
    "    \n",
    "    \n",
    "5. Generate Training Sequences and Labels\n",
    "    * Text divided into sequences of length SEQUENCE_LENGTH with STEP_SIZE.\n",
    "    -For each sequence, the corresponding next character is extracted.\n",
    "    -Input x and y sequences created and initialized as arrays of zeros.\n",
    "    -Characters in each sequence are one-hot encoded and stored in the x array.\n",
    "    -Next characters are one-hot encoded and stored in the y array.\n",
    "   \n",
    "   \n",
    "6. Build the Model\n",
    "    * A sequential model is created.\n",
    "    -An LSTM layer with 128 units is added as the input layer.\n",
    "    -Dense layer with # of units equal to number of unique characters is added.\n",
    "    -Activation layer(softmax) obtain probability distribution over characters.\n",
    "   \n",
    "   \n",
    "7. Compile the Model\n",
    "    * Compiled categorical cross-entropy loss function and RMSprop optimizer with learning rate of 0.01.\n",
    "   \n",
    "   \n",
    "8. Train the Model\n",
    "    * Trained using the fit() function with input sequences x and labels y.\n",
    "    -Training is performed in batches of size 256 for 4 epochs.\n",
    "    \n",
    "    \n",
    "9. Load the Trained Model\n",
    "    * Loaded from file \"textgenerator.model\" using tf.keras.models.load_model().\n",
    "    \n",
    "    \n",
    "10. Define the \"sample()\" function\n",
    "    * Function takes predicted probabilities (preds) and temp value as input.\n",
    "    -Probabilities are converted to a log scale and divided by the temperature.\n",
    "    -Softmax function is applied to obtain the new probabilities.\n",
    "    -\"multinomial()\" from distribution and returns index of selected character.\n",
    "    \n",
    "    \n",
    "11. Define the \"generate_text()\" function\n",
    "    * Function takes a length and temperature as input.\n",
    "    -Random starting index within the text range is chosen.\n",
    "    -Initial sequence of length SEQUENCE_LENGTH is selected.\n",
    "    -Predicts next character based on input sequence and sampled character is appended to generated text.\n",
    "    -First character removed from input sequence to shift window, and process continues iteratively.\n",
    "    -Generated text is returned.\n",
    "    \n",
    "    \n",
    "12. Generate the Text with Different Temperatures\n",
    "    * Array of temperatures [0.2, 0.4, 0.6, 0.8, 1.0] and fixed length (100) are defined.\n",
    "    -For each temperature, generate_text() function is called and output is printed to console. "
   ]
  },
  {
   "cell_type": "code",
   "execution_count": 114,
   "id": "783cde4f",
   "metadata": {},
   "outputs": [],
   "source": [
    "#Import libraries\n",
    "import random\n",
    "import numpy as np\n",
    "import tensorflow as tf\n",
    "from tensorflow.keras.models import Sequential\n",
    "from tensorflow.keras.layers import LSTM, Dense, Activation, Dropout\n",
    "from tensorflow.keras.optimizers import Adam"
   ]
  },
  {
   "cell_type": "code",
   "execution_count": null,
   "id": "717530e1",
   "metadata": {},
   "outputs": [],
   "source": [
    "#Download and preprocess the text\n",
    "filepath = tf.keras.utils.get_file('shakespeare.txt', 'https://storage.googleapis.com/download.tensorflow.org/data/shakespeare.txt')\n",
    "text = open(filepath, 'rb').read().decode(encoding='utf-8').lower()\n",
    "text = text[300000:800000]"
   ]
  },
  {
   "cell_type": "code",
   "execution_count": null,
   "id": "efb24e2e",
   "metadata": {},
   "outputs": [],
   "source": [
    "#Create character mappings\n",
    "characters = sorted(set(text))\n",
    "char_to_index = {c: i for i, c in enumerate(characters)}\n",
    "index_to_char = {i: c for i, c in enumerate(characters)}"
   ]
  },
  {
   "cell_type": "code",
   "execution_count": null,
   "id": "46129938",
   "metadata": {},
   "outputs": [],
   "source": [
    "#Define Constants\n",
    "SEQUENCE_LENGTH = 40\n",
    "STEP_SIZE = 3"
   ]
  },
  {
   "cell_type": "code",
   "execution_count": null,
   "id": "34b624e3",
   "metadata": {},
   "outputs": [],
   "source": [
    "#Generate training sequences and labels\n",
    "sentences = [text[i:i + SEQUENCE_LENGTH] for i in range(0, len(text) - SEQUENCE_LENGTH, STEP_SIZE)]\n",
    "next_characters = [text[i + SEQUENCE_LENGTH] for i in range(0, len(text) - SEQUENCE_LENGTH, STEP_SIZE)]\n",
    "\n",
    "x = np.zeros((len(sentences), SEQUENCE_LENGTH, len(characters)), dtype=np.bool_)\n",
    "y = np.zeros((len(sentences), len(characters)), dtype=np.bool_)\n",
    "\n",
    "for i, sentence in enumerate(sentences):\n",
    "    x[i, np.arange(SEQUENCE_LENGTH), [char_to_index[char] for char in sentence]] = 1\n",
    "    y[i, char_to_index[next_characters[i]]] = 1"
   ]
  },
  {
   "cell_type": "code",
   "execution_count": null,
   "id": "4da20d8b",
   "metadata": {},
   "outputs": [],
   "source": [
    "#Build the model\n",
    "model = Sequential([\n",
    "    LSTM(128, input_shape=(SEQUENCE_LENGTH, len(characters)), return_sequences=True),\n",
    "    Dropout(0.2),\n",
    "    LSTM(128),\n",
    "    Dropout(0.2),\n",
    "    Dense(len(characters)),\n",
    "    Activation('softmax')\n",
    "])\n",
    "\n",
    "model.compile(loss='categorical_crossentropy', optimizer=RMSprop(learning_rate=0.001))"
   ]
  },
  {
   "cell_type": "code",
   "execution_count": null,
   "id": "6a760e59",
   "metadata": {},
   "outputs": [],
   "source": [
    "#Train the model\n",
    "model.fit(x, y, batch_size = 256, epochs = 6)"
   ]
  },
  {
   "cell_type": "code",
   "execution_count": null,
   "id": "8a3bc68d",
   "metadata": {},
   "outputs": [],
   "source": [
    "#Load the trained model\n",
    "model = tf.keras.models.load_model('textgenerator.model')\n",
    "\n",
    "def sample(preds, temperature=1.0):\n",
    "    preds = np.asarray(preds).astype('float64')\n",
    "    preds = np.log(preds) / temperature\n",
    "    exp_preds = np.exp(preds)\n",
    "    preds = exp_preds / np.sum(exp_preds)\n",
    "    probas = np.random.multinomial(1, preds, 1)\n",
    "    return np.argmax(probas)\n",
    "\n",
    "def generate_text(length, temperature):\n",
    "    start_index = random.randint(0, len(text) - SEQUENCE_LENGTH - 1)\n",
    "    generated = text[start_index: start_index + SEQUENCE_LENGTH]\n",
    "    for _ in range(length):\n",
    "        x = np.zeros((1, SEQUENCE_LENGTH, len(characters)))\n",
    "        for t, character in enumerate(generated):\n",
    "            x[0, t, char_to_index[character]] = 1\n",
    "    \n",
    "        predictions = model.predict(x, verbose=0)[0]\n",
    "        next_index = sample(predictions, temperature)\n",
    "        next_character = index_to_char[next_index]\n",
    "    \n",
    "        generated += next_character\n",
    "        generated = generated[1:]\n",
    "\n",
    "    return generated"
   ]
  },
  {
   "cell_type": "code",
   "execution_count": null,
   "id": "5c94db86",
   "metadata": {},
   "outputs": [],
   "source": [
    "#Generate text with different temperatures\n",
    "temperatures = [0.2, 0.4, 0.6, 0.8, 1.0]\n",
    "length = 100\n",
    "\n",
    "for temp in temperatures:\n",
    "    print(f'---------Temperature {temp}---------')\n",
    "    print(generate_text(length, temp))"
   ]
  }
 ],
 "metadata": {
  "kernelspec": {
   "display_name": "Python 3 (ipykernel)",
   "language": "python",
   "name": "python3"
  },
  "language_info": {
   "codemirror_mode": {
    "name": "ipython",
    "version": 3
   },
   "file_extension": ".py",
   "mimetype": "text/x-python",
   "name": "python",
   "nbconvert_exporter": "python",
   "pygments_lexer": "ipython3",
   "version": "3.9.13"
  }
 },
 "nbformat": 4,
 "nbformat_minor": 5
}
